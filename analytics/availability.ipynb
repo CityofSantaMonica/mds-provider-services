{
 "cells": [
  {
   "cell_type": "markdown",
   "metadata": {},
   "source": [
    "# Availability Calculator\n",
    "\n",
    "This tool estimates the average device availability over a period of time.\n",
    "\n",
    "Double-click into the cells below, where it says `'here'`, and adjust the values as necessary.\n",
    "\n",
    "After setting configuration values, select `Kernel` > `Restart & Run All` from the menu."
   ]
  },
  {
   "cell_type": "code",
   "execution_count": null,
   "metadata": {},
   "outputs": [],
   "source": [
    "import datetime\n",
    "import time\n",
    "\n",
    "import pandas\n",
    "\n",
    "import main"
   ]
  },
  {
   "cell_type": "markdown",
   "metadata": {},
   "source": [
    "## `provider_name`\n",
    "\n",
    "Valid choices are:\n",
    "\n",
    "* `bird`\n",
    "* `JUMP`\n",
    "* `Lime`\n",
    "* `Lyft`"
   ]
  },
  {
   "cell_type": "code",
   "execution_count": null,
   "metadata": {},
   "outputs": [],
   "source": [
    "### Configuration ###\n",
    "\n",
    "provider_name = 'here'\n",
    "\n",
    "#####################\n",
    "\n",
    "print(f\"Provider: {provider_name}\")"
   ]
  },
  {
   "cell_type": "markdown",
   "metadata": {},
   "source": [
    "## `vehicle_type`\n",
    "\n",
    "Valid choices are (casing matters):\n",
    "\n",
    "* `bicycle` - `JUMP` only\n",
    "* `scooter` - all providers"
   ]
  },
  {
   "cell_type": "code",
   "execution_count": null,
   "metadata": {},
   "outputs": [],
   "source": [
    "### Configuration ###\n",
    "\n",
    "vehicle_type = 'here'\n",
    "\n",
    "#####################\n",
    "\n",
    "print(f\"Vehicle Type: {vehicle_type}\")"
   ]
  },
  {
   "cell_type": "markdown",
   "metadata": {},
   "source": [
    "## `start_date`:"
   ]
  },
  {
   "cell_type": "code",
   "execution_count": null,
   "metadata": {},
   "outputs": [],
   "source": [
    "### Configuration ###\n",
    "\n",
    "start_year = 2018\n",
    "start_month = 9\n",
    "start_day = 17\n",
    "\n",
    "#####################\n",
    "\n",
    "start_date = datetime.datetime(start_year, start_month, start_day, 0, 0, 0)\n",
    "print(\"Starting:\", start_date)"
   ]
  },
  {
   "cell_type": "markdown",
   "metadata": {},
   "source": [
    "## `end_date`:"
   ]
  },
  {
   "cell_type": "code",
   "execution_count": null,
   "metadata": {},
   "outputs": [],
   "source": [
    "### Configuration ###\n",
    "\n",
    "end_year = 2019\n",
    "end_month = 12\n",
    "end_day = 31\n",
    "\n",
    "#####################\n",
    "\n",
    "end_date = datetime.datetime(end_year, end_month, end_day, 0, 0, 0)\n",
    "print(\"Ending:\", end_date)"
   ]
  },
  {
   "cell_type": "markdown",
   "metadata": {},
   "source": [
    "## Count availability day-by-day:\n",
    "\n",
    "Calculate average availability for each day in the range `start_date` to `end_date`."
   ]
  },
  {
   "cell_type": "code",
   "execution_count": null,
   "metadata": {},
   "outputs": [],
   "source": [
    "cutoffs = (-1, 2, 3, 5, 7, 10, 14, 21, 30, 60, 90)\n",
    "step = datetime.timedelta(days=1)\n",
    "fmt = \"%Y-%m-%d\"\n",
    "\n",
    "for cutoff in cutoffs:\n",
    "    avail = main.availability(\n",
    "        provider_name,\n",
    "        vehicle_type,\n",
    "        start_date,\n",
    "        end_date,\n",
    "        local=True,\n",
    "        cutoff=cutoff\n",
    "    )\n",
    "\n",
    "    for s, e, count in avail:\n",
    "        print(f\"{provider_name},{vehicle_type},{s.strftime(fmt)},{e.strftime(fmt)},{count.average()},{cutoff}_days\")"
   ]
  }
 ],
 "metadata": {
  "kernelspec": {
   "display_name": "Python 3",
   "language": "python",
   "name": "python3"
  },
  "language_info": {
   "codemirror_mode": {
    "name": "ipython",
    "version": 3
   },
   "file_extension": ".py",
   "mimetype": "text/x-python",
   "name": "python",
   "nbconvert_exporter": "python",
   "pygments_lexer": "ipython3",
   "version": "3.7.3"
  }
 },
 "nbformat": 4,
 "nbformat_minor": 2
}
